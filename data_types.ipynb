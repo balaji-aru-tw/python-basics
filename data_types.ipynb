{
 "cells": [
  {
   "cell_type": "markdown",
   "metadata": {},
   "source": [
    "# Data Types in Python"
   ]
  },
  {
   "cell_type": "markdown",
   "metadata": {},
   "source": [
    "## Python Variables"
   ]
  },
  {
   "cell_type": "code",
   "execution_count": 12,
   "metadata": {},
   "outputs": [],
   "source": [
    "x = 2"
   ]
  },
  {
   "cell_type": "markdown",
   "metadata": {},
   "source": [
    "## Comments"
   ]
  },
  {
   "cell_type": "code",
   "execution_count": 13,
   "metadata": {},
   "outputs": [],
   "source": [
    "# Single Line comment"
   ]
  },
  {
   "cell_type": "code",
   "execution_count": 14,
   "metadata": {},
   "outputs": [],
   "source": [
    "\"\"\"\n",
    "Multi line comment\n",
    "\"\"\"\n",
    "'''\n",
    "Also multi line comment\n",
    "'''\n",
    "x = \"test\""
   ]
  },
  {
   "cell_type": "markdown",
   "metadata": {},
   "source": [
    "### Numeric Types\n",
    "* int\n",
    "* float\n",
    "* complex"
   ]
  },
  {
   "cell_type": "code",
   "execution_count": 20,
   "metadata": {},
   "outputs": [
    {
     "name": "stdout",
     "output_type": "stream",
     "text": [
      "5 is of type <class 'int'>\n",
      "5.1 is of type <class 'float'>\n",
      "(5+2j) is of type <class 'complex'>\n"
     ]
    }
   ],
   "source": [
    "x = 5\n",
    "print(\"{} is of type {}\".format(x, type(x)))\n",
    "x = 5.1\n",
    "print(\"{} is of type {}\".format(x, type(x)))\n",
    "x = 5 + 2j\n",
    "print(\"{} is of type {}\".format(x, type(x)))"
   ]
  },
  {
   "cell_type": "markdown",
   "metadata": {},
   "source": [
    "### Text\n",
    "* str\n"
   ]
  },
  {
   "cell_type": "code",
   "execution_count": 21,
   "metadata": {},
   "outputs": [
    {
     "name": "stdout",
     "output_type": "stream",
     "text": [
      "Hello is of type <class 'str'>\n"
     ]
    }
   ],
   "source": [
    "x = 'Hello'\n",
    "print(\"{} is of type {}\".format(x, type(x)))"
   ]
  },
  {
   "cell_type": "markdown",
   "metadata": {},
   "source": [
    "### Sequence Types\n",
    "* list\n",
    "* tuple\n",
    "* range"
   ]
  },
  {
   "cell_type": "code",
   "execution_count": 32,
   "metadata": {},
   "outputs": [
    {
     "name": "stdout",
     "output_type": "stream",
     "text": [
      "[0, 1, '2', 3.4, '4']\n",
      "[123213, 0, 1, '2', 3.4, '4']\n",
      "[123213, 1, '2', 3.4, '4']\n",
      "[123213, 1, '2', 3.4]\n",
      "[1, '2', 3.4]\n",
      "[1, 3.4]\n"
     ]
    }
   ],
   "source": [
    "# Lists\n",
    "# Creating Empty List\n",
    "x = []\n",
    "\n",
    "# Creating List with Items\n",
    "x = [0,1,2,3,4]\n",
    "\n",
    "# Lists can contain different data types\n",
    "x = [0, 1, \"2\", 3.4]\n",
    "\n",
    "# appending items to list\n",
    "x.append(\"4\")\n",
    "print(x)\n",
    "\n",
    "# adding items to certain position\n",
    "x.insert(0, 123213)\n",
    "print(x)\n",
    "\n",
    "# remove certain element\n",
    "x.remove(0)\n",
    "print(x)\n",
    "\n",
    "# remove last item\n",
    "x.pop()\n",
    "print(x)\n",
    "\n",
    "# remove certain index\n",
    "x.pop(0)\n",
    "print(x)\n",
    "\n",
    "# remove using reverse indexing\n",
    "x.pop(-2)\n",
    "print(x)"
   ]
  },
  {
   "cell_type": "markdown",
   "metadata": {},
   "source": [
    "### Mapping Types\n",
    "* dict\n",
    "\n",
    "### Set Types\n",
    "* set\n",
    "* frozenset\n",
    "\n",
    "### Boolean Type\n",
    "* bool\n",
    "\n",
    "### Binary Types\n",
    "* bytes\n",
    "* bytearray\n",
    "* memoryview"
   ]
  }
 ],
 "metadata": {
  "kernelspec": {
   "display_name": "Python 3",
   "language": "python",
   "name": "python3"
  },
  "language_info": {
   "codemirror_mode": {
    "name": "ipython",
    "version": 3
   },
   "file_extension": ".py",
   "mimetype": "text/x-python",
   "name": "python",
   "nbconvert_exporter": "python",
   "pygments_lexer": "ipython3",
   "version": "3.8.2"
  }
 },
 "nbformat": 4,
 "nbformat_minor": 4
}
